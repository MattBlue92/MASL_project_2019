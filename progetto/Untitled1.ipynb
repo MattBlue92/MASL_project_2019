{
 "cells": [
  {
   "cell_type": "code",
   "execution_count": 2,
   "metadata": {},
   "outputs": [],
   "source": [
    "#librerie di sistema per gestire i percorsi\n",
    "import os, sys, random, io, urllib\n",
    "from datetime import datetime\n",
    "\n",
    "\n",
    "#importazione delle librerie di data science\n",
    "import pandas as pd\n",
    "import numpy as np\n",
    "import seaborn as sns\n",
    "\n",
    "import matplotlib.pyplot as plt\n",
    "from IPython.display import Image, display\n",
    "\n",
    "\n",
    "#settaggio per lo stile grafico\n",
    "sns.set_style('darkgrid')\n",
    "%matplotlib inline "
   ]
  },
  {
   "cell_type": "code",
   "execution_count": 3,
   "metadata": {},
   "outputs": [
    {
     "name": "stdout",
     "output_type": "stream",
     "text": [
      "    BELNR WAERS BUKRS KTOSL PRCTR BSCHL HKONT       DMBTR       WRBTR    label\n",
      "0  288203    C3   C31    C9   C92    A3    B1   280979.60        0.00  regular\n",
      "1  324441    C1   C18    C7   C76    A1    B2   129856.53   243343.00  regular\n",
      "2  133537    C1   C19    C2   C20    A1    B3   957463.97  3183838.41  regular\n",
      "3  331521    C4   C48    C9   C95    A2    B1  2681709.51    28778.00  regular\n",
      "4  375333    C5   C58    C1   C19    A3    B1   910514.49      346.00  regular\n",
      "BELNR      int64\n",
      "WAERS     object\n",
      "BUKRS     object\n",
      "KTOSL     object\n",
      "PRCTR     object\n",
      "BSCHL     object\n",
      "HKONT     object\n",
      "DMBTR    float64\n",
      "WRBTR    float64\n",
      "label     object\n",
      "dtype: object\n",
      "La lunghezza del dataset è  (533009, 10)\n",
      "<class 'pandas.core.frame.DataFrame'>\n",
      "RangeIndex: 533009 entries, 0 to 533008\n",
      "Data columns (total 10 columns):\n",
      "BELNR    533009 non-null int64\n",
      "WAERS    533009 non-null object\n",
      "BUKRS    533009 non-null object\n",
      "KTOSL    533009 non-null object\n",
      "PRCTR    533009 non-null object\n",
      "BSCHL    533009 non-null object\n",
      "HKONT    533009 non-null object\n",
      "DMBTR    533009 non-null float64\n",
      "WRBTR    533009 non-null float64\n",
      "label    533009 non-null object\n",
      "dtypes: float64(2), int64(1), object(7)\n",
      "memory usage: 225.7 MB\n",
      "None\n"
     ]
    }
   ],
   "source": [
    "#importazione dati\n",
    "url = 'https://raw.githubusercontent.com/GitiHubi/deepAI/master/data/fraud_dataset_v2.csv'\n",
    "\n",
    "df = pd.read_csv(url)\n",
    "print(df.head())\n",
    "print(df.dtypes)\n",
    "print(\"La lunghezza del dataset è  {}\".format(df.shape))\n",
    "print(df.info(memory_usage=\"deep\"))"
   ]
  },
  {
   "cell_type": "code",
   "execution_count": 4,
   "metadata": {},
   "outputs": [
    {
     "ename": "AttributeError",
     "evalue": "module 'seaborn' has no attribute 'scatterplot'",
     "output_type": "error",
     "traceback": [
      "\u001b[0;31m---------------------------------------------------------------------------\u001b[0m",
      "\u001b[0;31mAttributeError\u001b[0m                            Traceback (most recent call last)",
      "\u001b[0;32m<ipython-input-4-c8ff66cb9524>\u001b[0m in \u001b[0;36m<module>\u001b[0;34m()\u001b[0m\n\u001b[0;32m----> 1\u001b[0;31m \u001b[0msns\u001b[0m\u001b[0;34m.\u001b[0m\u001b[0mscatterplot\u001b[0m\u001b[0;34m(\u001b[0m\u001b[0mx\u001b[0m\u001b[0;34m=\u001b[0m\u001b[0;34m\"DMBTR\"\u001b[0m\u001b[0;34m,\u001b[0m \u001b[0my\u001b[0m\u001b[0;34m=\u001b[0m\u001b[0;34m\"WRBTR\"\u001b[0m\u001b[0;34m,\u001b[0m\u001b[0mdata\u001b[0m\u001b[0;34m=\u001b[0m\u001b[0mdf\u001b[0m\u001b[0;34m)\u001b[0m\u001b[0;34m\u001b[0m\u001b[0m\n\u001b[0m",
      "\u001b[0;31mAttributeError\u001b[0m: module 'seaborn' has no attribute 'scatterplot'"
     ]
    }
   ],
   "source": [
    "sns.scatterplot(x=\"DMBTR\", y=\"WRBTR\",data=df)"
   ]
  },
  {
   "cell_type": "code",
   "execution_count": null,
   "metadata": {},
   "outputs": [],
   "source": []
  }
 ],
 "metadata": {
  "kernelspec": {
   "display_name": "conda_tensorflow_p36",
   "language": "python",
   "name": "conda_tensorflow_p36"
  },
  "language_info": {
   "codemirror_mode": {
    "name": "ipython",
    "version": 3
   },
   "file_extension": ".py",
   "mimetype": "text/x-python",
   "name": "python",
   "nbconvert_exporter": "python",
   "pygments_lexer": "ipython3",
   "version": "3.6.5"
  }
 },
 "nbformat": 4,
 "nbformat_minor": 4
}
